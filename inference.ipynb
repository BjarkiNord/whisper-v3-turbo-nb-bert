{
 "cells": [
  {
   "cell_type": "code",
   "execution_count": 10,
   "metadata": {},
   "outputs": [
    {
     "name": "stdout",
     "output_type": "stream",
     "text": [
      "('Jeg mener det er folkeskikk å ta imot en unnskyldning, jeg gjør det. Men '\n",
      " 'dette holder ikke. Statsråden vittner ikke om å ha skjønt hva dette handler '\n",
      " 'om. Hun sier at kommunikasjonen har rammet. Filmen har pisket opp '\n",
      " 'stemninger. Og hun kan ikke fatte at folk reagerer sånn med å sende '\n",
      " 'meldinger til Tarja Beck, eksempelvis. Det finnes hundrevis andre. Det er '\n",
      " 'uroen, president, at ikke statsråden forstår at den typen melding som hun '\n",
      " 'sier,')\n"
     ]
    }
   ],
   "source": [
    "import torch\n",
    "from transformers import WhisperForConditionalGeneration, WhisperProcessor\n",
    "import torchaudio\n",
    "\n",
    "# Load the fine-tuned Whisper model and processor\n",
    "#model = WhisperForConditionalGeneration.from_pretrained('fine-tuned-whisper-model')\n",
    "#processor = WhisperProcessor.from_pretrained('fine-tuned-whisper-processor')\n",
    "\n",
    "WHISPER_MODEL_NAME = 'openai/whisper-large-v3-turbo'\n",
    "WHISPER_PROCESSOR_NAME = 'openai/whisper-large-v3-turbo'\n",
    "\n",
    "model = WhisperForConditionalGeneration.from_pretrained(WHISPER_MODEL_NAME)\n",
    "processor = WhisperProcessor.from_pretrained(WHISPER_PROCESSOR_NAME)\n",
    "\n",
    "# Set the model to evaluation mode and move it to the appropriate device\n",
    "device = torch.device('cuda' if torch.cuda.is_available() else 'cpu')\n",
    "model.to(device)\n",
    "model.eval()\n",
    "\n",
    "# Function to load and preprocess audio for inference\n",
    "def load_audio(file_path):\n",
    "    # Load the audio file\n",
    "    waveform, sample_rate = torchaudio.load(file_path)\n",
    "\n",
    "    # Resample the audio to the target sample rate if necessary\n",
    "    target_sample_rate = 16000  # Whisper models expect a sample rate of 16kHz\n",
    "    if sample_rate != target_sample_rate:\n",
    "        waveform = torchaudio.transforms.Resample(orig_freq=sample_rate, new_freq=target_sample_rate)(waveform)\n",
    "    \n",
    "    return waveform.squeeze(0).numpy()\n",
    "\n",
    "# Inference function \n",
    "def transcribe_audio(file_path):\n",
    "    # Load and preprocess the audio\n",
    "    audio_array = load_audio(file_path)\n",
    "    \n",
    "    # Process the audio in chunks of 30 seconds\n",
    "    chunk_size = 30 * 16000  # 30 seconds in samples\n",
    "    transcription = \"\"\n",
    "    \n",
    "    for i in range(0, len(audio_array), chunk_size):\n",
    "        chunk = audio_array[i:i + chunk_size]\n",
    "        \n",
    "        # Process the chunk using the WhisperProcessor\n",
    "        input_features = processor(chunk, return_tensors=\"pt\", sampling_rate=16000).input_features\n",
    "        \n",
    "        # Move the input to the correct device\n",
    "        input_features = input_features.to(device)\n",
    "        \n",
    "        # Generate transcription using the fine-tuned model\n",
    "        with torch.no_grad():\n",
    "            predicted_ids = model.generate(input_features)\n",
    "        \n",
    "        # Decode the generated ids into text and append to the transcription\n",
    "        transcription += processor.batch_decode(predicted_ids, skip_special_tokens=True)[0] + \" \"\n",
    "    \n",
    "    return transcription.strip()\n",
    "\n",
    "# Example: Transcribe an audio file\n",
    "audio_file = \"detteholderikke.wav\"\n",
    "transcription = transcribe_audio(audio_file)\n",
    "#implement prettyprint\n",
    "from pprint import pprint\n",
    "\n",
    "\n",
    "pprint(transcription)\n"
   ]
  },
  {
   "cell_type": "code",
   "execution_count": 5,
   "metadata": {},
   "outputs": [
    {
     "name": "stdout",
     "output_type": "stream",
     "text": [
      "('den jeg mener jeg faktisk ikke å ta imute nrunnskeldning jeg gjør det med '\n",
      " 'dette holder ikke statsråden vi å sende mellinger til Terje bek eksempelvis '\n",
      " 'til Fines Sunder vi seg Andre og president president at ikke statsråden '\n",
      " 'første år at den typen mellninger til Terje bek eksempelvis til Fines Sunder '\n",
      " 'vi seg Andre og president president president ikke statsråden første år at '\n",
      " 'den typen typen mellning som hun sier ikke statsråden ikke statsråden første '\n",
      " 'år at den typen typen typen mellning som hun sier ikke ikke statsråden ikke '\n",
      " 'statsråden ikke statsråden ikke statsråden ikke statsråden ikke statsråden '\n",
      " 'ikke statsråden ikke statsråden ikke statsråden ikke statsråden ikke '\n",
      " 'statsråden ikke statsråden ikke statsråden ikke statsråden ikke statsråden '\n",
      " 'ikke stats den typen typen typen typen typen typen mellning som hun sier '\n",
      " 'ikke å den typ en typ en typ en typ en typ en typ en typ en typ en typ en '\n",
      " 'typ en typ en typ en typ de ikke ikke ikke ikke ikke ikke statsråden ikke '\n",
      " 'ikke statsråden ikke ikke statsråden ikke statsråden ikke ikke statsråden '\n",
      " 'ikke statsråden ikke statsråden ikke statsråden ikke statsråden ikke ikke '\n",
      " 'statsråden ikke statsråden ikke ikke statsråden ikke ikke statsråden ikke '\n",
      " 'ikke statsråden ikke ikke statsråden ikke ikke statsråden ikke ikke '\n",
      " 'statsråden ikke ikke statsråden ikke ikke statsråden ikke ikke statsråden '\n",
      " 'ikke ikke statsråden ikke ikke statsråden ikke ikke statsråden ikke ikke '\n",
      " 'statsråden ikke ikke statsråden ikke ikke statsråden ikke ikke ikke '\n",
      " 'statsråden ikke ikke statsråden ikke ikke ikke statsråden ikke ikke ikke '\n",
      " 'statsråden ikke ikke ikke statsråden ikke ikke statsråden ikke ikke ikke '\n",
      " 'statsråden ikke ikke ikke statsråden ikke ikke statsråden ikke')\n"
     ]
    }
   ],
   "source": [
    "from pprint import pprint\n",
    "\n",
    "\n",
    "pprint(transcription)"
   ]
  },
  {
   "cell_type": "code",
   "execution_count": null,
   "metadata": {},
   "outputs": [],
   "source": []
  }
 ],
 "metadata": {
  "kernelspec": {
   "display_name": "whisper",
   "language": "python",
   "name": "python3"
  },
  "language_info": {
   "codemirror_mode": {
    "name": "ipython",
    "version": 3
   },
   "file_extension": ".py",
   "mimetype": "text/x-python",
   "name": "python",
   "nbconvert_exporter": "python",
   "pygments_lexer": "ipython3",
   "version": "3.10.15"
  }
 },
 "nbformat": 4,
 "nbformat_minor": 2
}
